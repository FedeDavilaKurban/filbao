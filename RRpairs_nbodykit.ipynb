{
 "cells": [
  {
   "cell_type": "code",
   "execution_count": null,
   "metadata": {},
   "outputs": [],
   "source": [
    "from nbodykit.lab import *\n",
    "import pandas as pd\n",
    "import numpy as np\n",
    "\n",
    "zmin, zmax = 0.01, 0.15\n",
    "\n",
    "# Load your data and randoms as Pandas DataFrames\n",
    "randoms = pd.read_csv('../data/random_sample_healpy_128_4478782.csv')  # Replace with your randoms CSV file path\n",
    "\n",
    "# Convert DataFrames to ArrayCatalog with RA, DEC, and Redshift\n",
    "rand_cat = ArrayCatalog({'RA': randoms['ra'].values,\n",
    "                         'DEC': randoms['dec'].values,\n",
    "                         'Redshift': randoms['red'].values})\n",
    "\n",
    "\n",
    "# Assign cosmology (if not already in the data)\n",
    "cosmo = cosmology.Planck15\n",
    "\n",
    "# Define the edges for s and mu bins\n",
    "s_bins = [70, 80, 90, 100, 110, 120]  # smaller range for simplicity\n",
    "mu_bins = 9  # fewer bins for testing\n",
    "\n",
    "# Define the SurveyData2PCF object\n",
    "result = SurveyData2PCF('2d', data_cat, rand_cat, edges=s_bins, Nmu=mu_bins, cosmo=cosmo, ra='RA', dec='DEC', redshift='Redshift')\n",
    "\n",
    "# Access the computed correlation function\n",
    "xi_s_mu = result.corr.data  # 2D correlation function values\n",
    "s = result.corr.coords['r']  # The s bins\n",
    "mu = result.corr.coords['mu']  # The mu bins\n",
    "\n",
    "# Save or print results\n",
    "print(\"s:\", s)\n",
    "print(\"mu:\", mu)\n",
    "print(\"xi(s, mu):\", xi_s_mu)\n",
    "\n",
    "# Optionally save the results to a file\n",
    "np.savez('xi_s_mu_results.npz', s=s, mu=mu, xi_s_mu=xi_s_mu)\n",
    "\n"
   ]
  }
 ],
 "metadata": {
  "language_info": {
   "name": "python"
  }
 },
 "nbformat": 4,
 "nbformat_minor": 2
}
