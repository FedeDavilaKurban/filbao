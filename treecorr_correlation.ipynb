{
 "cells": [
  {
   "cell_type": "code",
   "execution_count": 1,
   "metadata": {},
   "outputs": [],
   "source": [
    "import pandas as pd\n",
    "from astropy.cosmology import Planck18 as cosmo\n",
    "\n",
    "# Load your SDSS data\n",
    "data = pd.read_csv('../data/sdss_zmin_0.000_zmax_0.300_sigma_5.0.csv')  # Replace with your file path\n",
    "ra = data['ra'].values  # Right Ascension in degrees\n",
    "dec = data['dec'].values  # Declination in degrees\n",
    "z = data['red'].values  # Redshift\n",
    "\n",
    "# Convert redshift to comoving distances\n",
    "comoving_dist = cosmo.comoving_distance(z).value  # in Mpc/h\n"
   ]
  },
  {
   "cell_type": "code",
   "execution_count": 5,
   "metadata": {},
   "outputs": [],
   "source": [
    "import treecorr\n",
    "\n",
    "# Create a TreeCorr catalog with 3D positions\n",
    "cat = treecorr.Catalog(ra=ra, dec=dec, r=comoving_dist, \n",
    "                       ra_units='deg', dec_units='deg')\n"
   ]
  },
  {
   "cell_type": "code",
   "execution_count": 7,
   "metadata": {},
   "outputs": [],
   "source": [
    "# Set up the 3D correlation function\n",
    "nn = treecorr.NNCorrelation(min_sep=10, max_sep=150, bin_size=5)\n",
    "\n",
    "# Process the catalog\n",
    "nn.process(cat)\n"
   ]
  },
  {
   "cell_type": "code",
   "execution_count": 11,
   "metadata": {},
   "outputs": [],
   "source": [
    "# After processing, the correlation function is stored in nn.corr\n",
    "separation = nn.meanr  # Mean separation in each bin\n",
    "xi_s = nn.corr  # This stores the correlation function values (xi)\n",
    "npairs = nn.npairs  # Number of pairs in each bin (optional, for error analysis)\n"
   ]
  },
  {
   "cell_type": "code",
   "execution_count": 13,
   "metadata": {},
   "outputs": [
    {
     "ename": "TypeError",
     "evalue": "float() argument must be a string or a real number, not 'treecorr._treecorr.NNCorr'",
     "output_type": "error",
     "traceback": [
      "\u001b[0;31m---------------------------------------------------------------------------\u001b[0m",
      "\u001b[0;31mTypeError\u001b[0m                                 Traceback (most recent call last)",
      "Cell \u001b[0;32mIn[13], line 7\u001b[0m\n\u001b[1;32m      4\u001b[0m plt\u001b[38;5;241m.\u001b[39mfigure(figsize\u001b[38;5;241m=\u001b[39m(\u001b[38;5;241m8\u001b[39m, \u001b[38;5;241m6\u001b[39m))\n\u001b[1;32m      6\u001b[0m \u001b[38;5;66;03m# Plot the correlation function on a log-log scale\u001b[39;00m\n\u001b[0;32m----> 7\u001b[0m \u001b[43mplt\u001b[49m\u001b[38;5;241;43m.\u001b[39;49m\u001b[43mplot\u001b[49m\u001b[43m(\u001b[49m\u001b[43mseparation\u001b[49m\u001b[43m,\u001b[49m\u001b[43m \u001b[49m\u001b[43mxi_s\u001b[49m\u001b[43m,\u001b[49m\u001b[43m \u001b[49m\u001b[43mmarker\u001b[49m\u001b[38;5;241;43m=\u001b[39;49m\u001b[38;5;124;43m'\u001b[39;49m\u001b[38;5;124;43mo\u001b[39;49m\u001b[38;5;124;43m'\u001b[39;49m\u001b[43m,\u001b[49m\u001b[43m \u001b[49m\u001b[43mlinestyle\u001b[49m\u001b[38;5;241;43m=\u001b[39;49m\u001b[38;5;124;43m'\u001b[39;49m\u001b[38;5;124;43m-\u001b[39;49m\u001b[38;5;124;43m'\u001b[39;49m\u001b[43m,\u001b[49m\u001b[43m \u001b[49m\u001b[43mlabel\u001b[49m\u001b[38;5;241;43m=\u001b[39;49m\u001b[38;5;124;43mr\u001b[39;49m\u001b[38;5;124;43m'\u001b[39;49m\u001b[38;5;124;43m$\u001b[39;49m\u001b[38;5;124;43m\\\u001b[39;49m\u001b[38;5;124;43mxi(s)$\u001b[39;49m\u001b[38;5;124;43m'\u001b[39;49m\u001b[43m)\u001b[49m\n\u001b[1;32m      9\u001b[0m \u001b[38;5;66;03m# Set the axes labels and title\u001b[39;00m\n\u001b[1;32m     10\u001b[0m plt\u001b[38;5;241m.\u001b[39mxscale(\u001b[38;5;124m'\u001b[39m\u001b[38;5;124mlog\u001b[39m\u001b[38;5;124m'\u001b[39m)  \u001b[38;5;66;03m# Logarithmic x-axis\u001b[39;00m\n",
      "File \u001b[0;32m~/anaconda3/envs/filbao/lib/python3.12/site-packages/matplotlib/pyplot.py:3590\u001b[0m, in \u001b[0;36mplot\u001b[0;34m(scalex, scaley, data, *args, **kwargs)\u001b[0m\n\u001b[1;32m   3582\u001b[0m \u001b[38;5;129m@_copy_docstring_and_deprecators\u001b[39m(Axes\u001b[38;5;241m.\u001b[39mplot)\n\u001b[1;32m   3583\u001b[0m \u001b[38;5;28;01mdef\u001b[39;00m \u001b[38;5;21mplot\u001b[39m(\n\u001b[1;32m   3584\u001b[0m     \u001b[38;5;241m*\u001b[39margs: \u001b[38;5;28mfloat\u001b[39m \u001b[38;5;241m|\u001b[39m ArrayLike \u001b[38;5;241m|\u001b[39m \u001b[38;5;28mstr\u001b[39m,\n\u001b[0;32m   (...)\u001b[0m\n\u001b[1;32m   3588\u001b[0m     \u001b[38;5;241m*\u001b[39m\u001b[38;5;241m*\u001b[39mkwargs,\n\u001b[1;32m   3589\u001b[0m ) \u001b[38;5;241m-\u001b[39m\u001b[38;5;241m>\u001b[39m \u001b[38;5;28mlist\u001b[39m[Line2D]:\n\u001b[0;32m-> 3590\u001b[0m     \u001b[38;5;28;01mreturn\u001b[39;00m \u001b[43mgca\u001b[49m\u001b[43m(\u001b[49m\u001b[43m)\u001b[49m\u001b[38;5;241;43m.\u001b[39;49m\u001b[43mplot\u001b[49m\u001b[43m(\u001b[49m\n\u001b[1;32m   3591\u001b[0m \u001b[43m        \u001b[49m\u001b[38;5;241;43m*\u001b[39;49m\u001b[43margs\u001b[49m\u001b[43m,\u001b[49m\n\u001b[1;32m   3592\u001b[0m \u001b[43m        \u001b[49m\u001b[43mscalex\u001b[49m\u001b[38;5;241;43m=\u001b[39;49m\u001b[43mscalex\u001b[49m\u001b[43m,\u001b[49m\n\u001b[1;32m   3593\u001b[0m \u001b[43m        \u001b[49m\u001b[43mscaley\u001b[49m\u001b[38;5;241;43m=\u001b[39;49m\u001b[43mscaley\u001b[49m\u001b[43m,\u001b[49m\n\u001b[1;32m   3594\u001b[0m \u001b[43m        \u001b[49m\u001b[38;5;241;43m*\u001b[39;49m\u001b[38;5;241;43m*\u001b[39;49m\u001b[43m(\u001b[49m\u001b[43m{\u001b[49m\u001b[38;5;124;43m\"\u001b[39;49m\u001b[38;5;124;43mdata\u001b[39;49m\u001b[38;5;124;43m\"\u001b[39;49m\u001b[43m:\u001b[49m\u001b[43m \u001b[49m\u001b[43mdata\u001b[49m\u001b[43m}\u001b[49m\u001b[43m \u001b[49m\u001b[38;5;28;43;01mif\u001b[39;49;00m\u001b[43m \u001b[49m\u001b[43mdata\u001b[49m\u001b[43m \u001b[49m\u001b[38;5;129;43;01mis\u001b[39;49;00m\u001b[43m \u001b[49m\u001b[38;5;129;43;01mnot\u001b[39;49;00m\u001b[43m \u001b[49m\u001b[38;5;28;43;01mNone\u001b[39;49;00m\u001b[43m \u001b[49m\u001b[38;5;28;43;01melse\u001b[39;49;00m\u001b[43m \u001b[49m\u001b[43m{\u001b[49m\u001b[43m}\u001b[49m\u001b[43m)\u001b[49m\u001b[43m,\u001b[49m\n\u001b[1;32m   3595\u001b[0m \u001b[43m        \u001b[49m\u001b[38;5;241;43m*\u001b[39;49m\u001b[38;5;241;43m*\u001b[39;49m\u001b[43mkwargs\u001b[49m\u001b[43m,\u001b[49m\n\u001b[1;32m   3596\u001b[0m \u001b[43m    \u001b[49m\u001b[43m)\u001b[49m\n",
      "File \u001b[0;32m~/anaconda3/envs/filbao/lib/python3.12/site-packages/matplotlib/axes/_axes.py:1726\u001b[0m, in \u001b[0;36mAxes.plot\u001b[0;34m(self, scalex, scaley, data, *args, **kwargs)\u001b[0m\n\u001b[1;32m   1724\u001b[0m lines \u001b[38;5;241m=\u001b[39m [\u001b[38;5;241m*\u001b[39m\u001b[38;5;28mself\u001b[39m\u001b[38;5;241m.\u001b[39m_get_lines(\u001b[38;5;28mself\u001b[39m, \u001b[38;5;241m*\u001b[39margs, data\u001b[38;5;241m=\u001b[39mdata, \u001b[38;5;241m*\u001b[39m\u001b[38;5;241m*\u001b[39mkwargs)]\n\u001b[1;32m   1725\u001b[0m \u001b[38;5;28;01mfor\u001b[39;00m line \u001b[38;5;129;01min\u001b[39;00m lines:\n\u001b[0;32m-> 1726\u001b[0m     \u001b[38;5;28;43mself\u001b[39;49m\u001b[38;5;241;43m.\u001b[39;49m\u001b[43madd_line\u001b[49m\u001b[43m(\u001b[49m\u001b[43mline\u001b[49m\u001b[43m)\u001b[49m\n\u001b[1;32m   1727\u001b[0m \u001b[38;5;28;01mif\u001b[39;00m scalex:\n\u001b[1;32m   1728\u001b[0m     \u001b[38;5;28mself\u001b[39m\u001b[38;5;241m.\u001b[39m_request_autoscale_view(\u001b[38;5;124m\"\u001b[39m\u001b[38;5;124mx\u001b[39m\u001b[38;5;124m\"\u001b[39m)\n",
      "File \u001b[0;32m~/anaconda3/envs/filbao/lib/python3.12/site-packages/matplotlib/axes/_base.py:2309\u001b[0m, in \u001b[0;36m_AxesBase.add_line\u001b[0;34m(self, line)\u001b[0m\n\u001b[1;32m   2306\u001b[0m \u001b[38;5;28;01mif\u001b[39;00m line\u001b[38;5;241m.\u001b[39mget_clip_path() \u001b[38;5;129;01mis\u001b[39;00m \u001b[38;5;28;01mNone\u001b[39;00m:\n\u001b[1;32m   2307\u001b[0m     line\u001b[38;5;241m.\u001b[39mset_clip_path(\u001b[38;5;28mself\u001b[39m\u001b[38;5;241m.\u001b[39mpatch)\n\u001b[0;32m-> 2309\u001b[0m \u001b[38;5;28;43mself\u001b[39;49m\u001b[38;5;241;43m.\u001b[39;49m\u001b[43m_update_line_limits\u001b[49m\u001b[43m(\u001b[49m\u001b[43mline\u001b[49m\u001b[43m)\u001b[49m\n\u001b[1;32m   2310\u001b[0m \u001b[38;5;28;01mif\u001b[39;00m \u001b[38;5;129;01mnot\u001b[39;00m line\u001b[38;5;241m.\u001b[39mget_label():\n\u001b[1;32m   2311\u001b[0m     line\u001b[38;5;241m.\u001b[39mset_label(\u001b[38;5;124mf\u001b[39m\u001b[38;5;124m'\u001b[39m\u001b[38;5;124m_child\u001b[39m\u001b[38;5;132;01m{\u001b[39;00m\u001b[38;5;28mlen\u001b[39m(\u001b[38;5;28mself\u001b[39m\u001b[38;5;241m.\u001b[39m_children)\u001b[38;5;132;01m}\u001b[39;00m\u001b[38;5;124m'\u001b[39m)\n",
      "File \u001b[0;32m~/anaconda3/envs/filbao/lib/python3.12/site-packages/matplotlib/axes/_base.py:2332\u001b[0m, in \u001b[0;36m_AxesBase._update_line_limits\u001b[0;34m(self, line)\u001b[0m\n\u001b[1;32m   2328\u001b[0m \u001b[38;5;28;01mdef\u001b[39;00m \u001b[38;5;21m_update_line_limits\u001b[39m(\u001b[38;5;28mself\u001b[39m, line):\n\u001b[1;32m   2329\u001b[0m \u001b[38;5;250m    \u001b[39m\u001b[38;5;124;03m\"\"\"\u001b[39;00m\n\u001b[1;32m   2330\u001b[0m \u001b[38;5;124;03m    Figures out the data limit of the given line, updating self.dataLim.\u001b[39;00m\n\u001b[1;32m   2331\u001b[0m \u001b[38;5;124;03m    \"\"\"\u001b[39;00m\n\u001b[0;32m-> 2332\u001b[0m     path \u001b[38;5;241m=\u001b[39m \u001b[43mline\u001b[49m\u001b[38;5;241;43m.\u001b[39;49m\u001b[43mget_path\u001b[49m\u001b[43m(\u001b[49m\u001b[43m)\u001b[49m\n\u001b[1;32m   2333\u001b[0m     \u001b[38;5;28;01mif\u001b[39;00m path\u001b[38;5;241m.\u001b[39mvertices\u001b[38;5;241m.\u001b[39msize \u001b[38;5;241m==\u001b[39m \u001b[38;5;241m0\u001b[39m:\n\u001b[1;32m   2334\u001b[0m         \u001b[38;5;28;01mreturn\u001b[39;00m\n",
      "File \u001b[0;32m~/anaconda3/envs/filbao/lib/python3.12/site-packages/matplotlib/lines.py:1032\u001b[0m, in \u001b[0;36mLine2D.get_path\u001b[0;34m(self)\u001b[0m\n\u001b[1;32m   1030\u001b[0m \u001b[38;5;250m\u001b[39m\u001b[38;5;124;03m\"\"\"Return the `~matplotlib.path.Path` associated with this line.\"\"\"\u001b[39;00m\n\u001b[1;32m   1031\u001b[0m \u001b[38;5;28;01mif\u001b[39;00m \u001b[38;5;28mself\u001b[39m\u001b[38;5;241m.\u001b[39m_invalidy \u001b[38;5;129;01mor\u001b[39;00m \u001b[38;5;28mself\u001b[39m\u001b[38;5;241m.\u001b[39m_invalidx:\n\u001b[0;32m-> 1032\u001b[0m     \u001b[38;5;28;43mself\u001b[39;49m\u001b[38;5;241;43m.\u001b[39;49m\u001b[43mrecache\u001b[49m\u001b[43m(\u001b[49m\u001b[43m)\u001b[49m\n\u001b[1;32m   1033\u001b[0m \u001b[38;5;28;01mreturn\u001b[39;00m \u001b[38;5;28mself\u001b[39m\u001b[38;5;241m.\u001b[39m_path\n",
      "File \u001b[0;32m~/anaconda3/envs/filbao/lib/python3.12/site-packages/matplotlib/lines.py:674\u001b[0m, in \u001b[0;36mLine2D.recache\u001b[0;34m(self, always)\u001b[0m\n\u001b[1;32m    672\u001b[0m \u001b[38;5;28;01mif\u001b[39;00m always \u001b[38;5;129;01mor\u001b[39;00m \u001b[38;5;28mself\u001b[39m\u001b[38;5;241m.\u001b[39m_invalidy:\n\u001b[1;32m    673\u001b[0m     yconv \u001b[38;5;241m=\u001b[39m \u001b[38;5;28mself\u001b[39m\u001b[38;5;241m.\u001b[39mconvert_yunits(\u001b[38;5;28mself\u001b[39m\u001b[38;5;241m.\u001b[39m_yorig)\n\u001b[0;32m--> 674\u001b[0m     y \u001b[38;5;241m=\u001b[39m \u001b[43m_to_unmasked_float_array\u001b[49m\u001b[43m(\u001b[49m\u001b[43myconv\u001b[49m\u001b[43m)\u001b[49m\u001b[38;5;241m.\u001b[39mravel()\n\u001b[1;32m    675\u001b[0m \u001b[38;5;28;01melse\u001b[39;00m:\n\u001b[1;32m    676\u001b[0m     y \u001b[38;5;241m=\u001b[39m \u001b[38;5;28mself\u001b[39m\u001b[38;5;241m.\u001b[39m_y\n",
      "File \u001b[0;32m~/anaconda3/envs/filbao/lib/python3.12/site-packages/matplotlib/cbook.py:1345\u001b[0m, in \u001b[0;36m_to_unmasked_float_array\u001b[0;34m(x)\u001b[0m\n\u001b[1;32m   1343\u001b[0m     \u001b[38;5;28;01mreturn\u001b[39;00m np\u001b[38;5;241m.\u001b[39mma\u001b[38;5;241m.\u001b[39masarray(x, \u001b[38;5;28mfloat\u001b[39m)\u001b[38;5;241m.\u001b[39mfilled(np\u001b[38;5;241m.\u001b[39mnan)\n\u001b[1;32m   1344\u001b[0m \u001b[38;5;28;01melse\u001b[39;00m:\n\u001b[0;32m-> 1345\u001b[0m     \u001b[38;5;28;01mreturn\u001b[39;00m \u001b[43mnp\u001b[49m\u001b[38;5;241;43m.\u001b[39;49m\u001b[43masarray\u001b[49m\u001b[43m(\u001b[49m\u001b[43mx\u001b[49m\u001b[43m,\u001b[49m\u001b[43m \u001b[49m\u001b[38;5;28;43mfloat\u001b[39;49m\u001b[43m)\u001b[49m\n",
      "\u001b[0;31mTypeError\u001b[0m: float() argument must be a string or a real number, not 'treecorr._treecorr.NNCorr'"
     ]
    },
    {
     "data": {
      "image/png": "[encoded data removed]",
      "text/plain": [
       "<Figure size 800x600 with 1 Axes>"
      ]
     },
     "metadata": {},
     "output_type": "display_data"
    }
   ],
   "source": [
    "import matplotlib.pyplot as plt\n",
    "\n",
    "# Create the plot\n",
    "plt.figure(figsize=(8, 6))\n",
    "\n",
    "# Plot the correlation function on a log-log scale\n",
    "plt.plot(separation, xi_s, marker='o', linestyle='-', label=r'$\\xi(s)$')\n",
    "\n",
    "# Set the axes labels and title\n",
    "plt.xscale('log')  # Logarithmic x-axis\n",
    "plt.yscale('log')  # Logarithmic y-axis\n",
    "plt.xlabel('Separation s [Mpc/h]', fontsize=12)\n",
    "plt.ylabel(r'$\\xi(s)$', fontsize=12)\n",
    "#plt.title('Galaxy Autocorrelation Function $\\xi(s)$', fontsize=14)\n",
    "\n",
    "# Add grid, legend, and tighten layout\n",
    "plt.grid(True, which=\"both\", linestyle=\"--\", alpha=0.5)\n",
    "plt.legend(loc='upper right')\n",
    "\n",
    "# Display the plot\n",
    "plt.tight_layout()\n",
    "plt.show()\n"
   ]
  },
  {
   "cell_type": "code",
   "execution_count": 14,
   "metadata": {},
   "outputs": [
    {
     "data": {
      "text/plain": [
       "<treecorr._treecorr.NNCorr at 0x7af9fce67470>"
      ]
     },
     "execution_count": 14,
     "metadata": {},
     "output_type": "execute_result"
    }
   ],
   "source": [
    "xi_s"
   ]
  },
  {
   "cell_type": "markdown",
   "metadata": {},
   "source": [
    "### Restart"
   ]
  },
  {
   "cell_type": "code",
   "execution_count": null,
   "metadata": {},
   "outputs": [],
   "source": [
    "######################\n",
    "minsep = 10.      # Min theta\n",
    "maxsep = 90.      # Max theta\n",
    "nbins = 15        # Bins in theta\n",
    "nbootstrap = 500  # No. of bootstrap resampling\n",
    "brute = False     # Brute force for TreeCorr\n",
    "npatch = 50\n",
    "\n",
    "config = {\"min_sep\": minsep, \\\n",
    "          \"max_sep\": maxsep, \\\n",
    "            \"nbins\": nbins, \\\n",
    "            \"sep_units\": 'degree', \\\n",
    "            \"bin_type\": 'Linear', \\\n",
    "            \"brute\": brute, \\\n",
    "            \"metric\": 'Arc', \\\n",
    "            \"var_method\": 'bootstrap', \\\n",
    "            \"num_bootstrap\": nbootstrap,\\\n",
    "            }\n",
    "######################\n",
    "\n",
    "import numpy as np\n",
    "import pandas as pd\n",
    "import treecorr\n",
    "\n",
    "# Read Gxs\n",
    "zmin, zmax = 0.0, 0.15\n",
    "cat_sdss = pd.read_csv('../data/sdss_zmin_0.000_zmax_0.300_sigma_5.0.csv')\n",
    "cat_sdss  = cat_sdss[(cat_sdss[\"red\"] > zmin)*(cat_sdss[\"red\"] < zmax)]\n",
    "\n",
    "# Read Randoms\n",
    "cat_random = pd.read_csv('../data/random_sample_healpy_128.csv')\n",
    "\n",
    "\n",
    "\n",
    "# TreeCorr Catalogues\n",
    "#xi_bs = np.zeros((nbootstrap,nbins))\n",
    "#varxi_bs = np.zeros((nbootstrap,nbins))\n",
    "dd = treecorr.NNCorrelation(config)\n",
    "#dr = treecorr.NNCorrelation(config)\n",
    "rr = treecorr.NNCorrelation(config)\n",
    "#rd = treecorr.NNCorrelation(config)\n",
    "\n",
    "rcat = treecorr.Catalog(ra=cat_random['ra'], dec=cat_random['dec'], \\\n",
    "                    ra_units='deg', dec_units='deg',npatch=npatch)\n",
    "\n",
    "gcat = treecorr.Catalog(ra=cat_sdss['ra'], dec=cat_sdss['dec'],\\\n",
    "                        ra_units='deg', dec_units='deg',npatch=npatch)\n",
    "\n",
    "dd.process(gcat)\n",
    "rr.process(rcat)\n",
    "\n",
    "xi, varxi = dd.calculateXi(rr=rr)\n",
    "th = dd.meanr\n"
   ]
  },
  {
   "cell_type": "code",
   "execution_count": 22,
   "metadata": {},
   "outputs": [
    {
     "data": {
      "image/png": "[encoded data removed]",
      "text/plain": [
       "<Figure size 640x480 with 1 Axes>"
      ]
     },
     "metadata": {},
     "output_type": "display_data"
    }
   ],
   "source": [
    "import matplotlib.pyplot as plt\n",
    "sig = np.sqrt(varxi)\n",
    "\n",
    "plt.plot(th, xi, color='blue')\n",
    "#plt.plot(th, -xi, color='blue', ls=':')\n",
    "#plt.errorbar(th[xi>0], xi[xi>0], yerr=sig[xi>0], color='blue', lw=0.1, ls='')\n",
    "#plt.errorbar(th[xi<0], -xi[xi<0], yerr=sig[xi<0], color='blue', lw=0.1, ls='')\n",
    "#leg = plt.errorbar(-th, xi, yerr=sig, color='blue')\n",
    "\n",
    "plt.show()"
   ]
  },
  {
   "cell_type": "markdown",
   "metadata": {},
   "source": [
    "### 3d positions"
   ]
  },
  {
   "cell_type": "code",
   "execution_count": 2,
   "metadata": {},
   "outputs": [
    {
     "name": "stdout",
     "output_type": "stream",
     "text": [
      "359437\n",
      "1078311\n"
     ]
    }
   ],
   "source": [
    "import numpy as np\n",
    "import pandas as pd\n",
    "import healpy as hp\n",
    "from scipy.interpolate import interp1d\n",
    "import matplotlib.pyplot as plt\n",
    "from numpy.polynomial.polynomial import Polynomial\n",
    "\n",
    "def build_cdf_from_parabola(data, vmin, vmax, num_points=10000):\n",
    "    # Create a histogram of the redshifts\n",
    "    hist, bin_edges = np.histogram(data, bins=50, range=(vmin, vmax), density=True)\n",
    "    bin_centers = 0.5 * (bin_edges[:-1] + bin_edges[1:])\n",
    "    \n",
    "    # Fit a parabola (second-degree polynomial) to the histogram\n",
    "    poly = Polynomial.fit(bin_centers, hist, deg=2)\n",
    "    z_vals = np.linspace(vmin, vmax, num_points)\n",
    "    pdf_vals = poly(z_vals)\n",
    "\n",
    "    # Ensure the PDF is positive and normalized\n",
    "    pdf_vals = np.clip(pdf_vals, a_min=0, a_max=None)\n",
    "    pdf_vals /= np.trapz(pdf_vals, z_vals)  # Normalize the PDF\n",
    "\n",
    "    # Build the CDF\n",
    "    cdf_vals = np.cumsum(pdf_vals) * (z_vals[1] - z_vals[0])\n",
    "    cdf_vals /= cdf_vals[-1]  # Normalize to [0, 1]\n",
    "\n",
    "    # Create inverse CDF via interpolation\n",
    "    cdf_inv = interp1d(cdf_vals, z_vals, bounds_error=False, fill_value=(vmin, vmax))\n",
    "    return cdf_inv, z_vals, pdf_vals, cdf_vals\n",
    "  \n",
    "# Load galaxy data\n",
    "zmin, zmax = 0.05, 0.15\n",
    "cat_sdss = pd.read_csv('../data/MGS_DR7_lpereyra.csv')\n",
    "cat_sdss  = cat_sdss[(cat_sdss[\"z\"] > zmin)*(cat_sdss[\"z\"] < zmax)]\n",
    "ra = cat_sdss['ra'].values  # Right Ascension\n",
    "dec = cat_sdss['dec'].values  # Declination\n",
    "\n",
    "# Set the resolution (nside)\n",
    "nside = 128  # Approx 55 arcmin resolution (adjust as needed)\n",
    "nrand = 3 # Times the size of the data (around 10% is left after mask)\n",
    "\n",
    "# Total number of pixels in the map\n",
    "npix = hp.nside2npix(nside)\n",
    "\n",
    "# Initialize a mask array (1 = valid, 0 = invalid)\n",
    "mask = np.zeros(npix, dtype=int)\n",
    "\n",
    "# Convert RA, Dec to Healpix indices\n",
    "theta = np.radians(90 - dec)  # Declination to colatitude\n",
    "phi = np.radians(ra)          # Right Ascension to longitude\n",
    "pixels = hp.ang2pix(nside, theta, phi)\n",
    "\n",
    "# Mark these pixels as valid\n",
    "mask[pixels] = 1\n",
    "\n",
    "num_randoms = int(10e6)  # Number of random points\n",
    "\n",
    "# Generate uniform random RA, Dec\n",
    "ra_random = np.random.uniform(0, 360, num_randoms)  # RA: 0 to 360 degrees\n",
    "u = np.random.uniform(-1, 1, num_randoms)\n",
    "dec_random_rad = np.arcsin(u)\n",
    "dec_random = np.rad2deg(dec_random_rad)\n",
    "#dec_random = np.random.uniform(-90, 90, num_randoms)  # Dec: -90 to 90 degrees\n",
    "\n",
    "# Convert RA, Dec to Healpix indices\n",
    "theta_random = np.radians(90 - dec_random)\n",
    "phi_random = np.radians(ra_random)\n",
    "random_pixels = hp.ang2pix(nside, theta_random, phi_random)\n",
    "\n",
    "# Apply the mask\n",
    "valid_indices = mask[random_pixels] == 1\n",
    "ra_random = ra_random[valid_indices]\n",
    "dec_random = dec_random[valid_indices]\n",
    "\n",
    "# Read redshift distribution and apply to randoms\n",
    "# Build the inverse CDF from a smoothed KDE fit\n",
    "cdf_inv_z, z_vals, pdf_vals, cdf_vals = build_cdf_from_parabola(cat_sdss['z'], zmin, zmax)\n",
    "\n",
    "# Generate random redshifts\n",
    "u = np.random.uniform(0, 1, len(ra_random))\n",
    "red_random = cdf_inv_z(u)\n",
    "\n",
    "random_data = pd.DataFrame({\n",
    "    'ra': ra_random[:len(ra)*nrand],\n",
    "    'dec': dec_random[:len(ra)*nrand],\n",
    "    'red': red_random[:len(ra)*nrand]\n",
    "})\n",
    "\n",
    "print(len(ra))\n",
    "print(len(random_data))"
   ]
  },
  {
   "cell_type": "code",
   "execution_count": null,
   "metadata": {},
   "outputs": [],
   "source": [
    "######################\n",
    "minsep = 10.      # Min theta\n",
    "maxsep = 150.      # Max theta\n",
    "nbins = 20        # Bins in theta\n",
    "nbootstrap = 10  # No. of bootstrap resampling\n",
    "brute = False     # Brute force for TreeCorr\n",
    "npatch = 10\n",
    "\n",
    "config = {\"min_sep\": minsep, \\\n",
    "          \"max_sep\": maxsep, \\\n",
    "            \"nbins\": nbins, \\\n",
    "            #\"sep_units\": 'degree', \\\n",
    "            \"bin_type\": 'Log', \\\n",
    "            #\"brute\": brute, \\\n",
    "            #\"metric\": 'Arc', \\\n",
    "            #\"var_method\": 'bootstrap', \\\n",
    "            #\"num_bootstrap\": nbootstrap,\\\n",
    "            }\n",
    "######################\n",
    "\n",
    "import numpy as np\n",
    "import pandas as pd\n",
    "import treecorr\n",
    "from astropy.cosmology import FlatLambdaCDM\n",
    "cosmo = FlatLambdaCDM(H0=67.74, Om0=0.3089)\n",
    "\n",
    "def H(ra, dec, z):\n",
    "\n",
    "  ra  = np.array(ra,  dtype=np.float32) \n",
    "  dec = np.array(dec, dtype=np.float32) \n",
    "  z   = np.array(z,   dtype=np.float32) \n",
    "\n",
    "  r = np.float32(cosmo.comoving_distance(z).value)\n",
    "  x = r*np.cos(np.deg2rad(ra))*np.cos(np.deg2rad(dec))\n",
    "  y = r*np.sin(np.deg2rad(ra))*np.cos(np.deg2rad(dec))\n",
    "  z = r*np.sin(np.deg2rad(dec))\n",
    "  return x, y, z\n",
    "\n",
    "# Read Gxs\n",
    "zmin, zmax = 0.05, 0.15\n",
    "#cat_sdss = pd.read_csv('../data/sdss_zmin_0.000_zmax_0.300_sigma_5.0.csv')\n",
    "cat_sdss = pd.read_csv('../data/MGS_DR7_lpereyra.csv')\n",
    "cat_sdss  = cat_sdss[(cat_sdss[\"z\"] > zmin)*(cat_sdss[\"z\"] < zmax)]\n",
    "\n",
    "# Read Randoms\n",
    "#cat_random = pd.read_csv('../data/random_sample_healpy_128_561286.csv')\n",
    "cat_random = random_data\n",
    "\n",
    "# Transform to Cartesian\n",
    "cat_random[\"x\"], cat_random[\"y\"], cat_random[\"z\"] = H(cat_random[\"ra\"], cat_random[\"dec\"], cat_random[\"red\"])\n",
    "cat_sdss[\"x\"], cat_sdss[\"y\"], cat_sdss[\"z\"] = H(cat_sdss[\"ra\"], cat_sdss[\"dec\"], cat_sdss[\"z\"])\n",
    "\n",
    "\n",
    "# TreeCorr Catalogues\n",
    "dd = treecorr.NNCorrelation(config)\n",
    "dr = treecorr.NNCorrelation(config)\n",
    "rr = treecorr.NNCorrelation(config)\n",
    "#rd = treecorr.NNCorrelation(config)\n",
    "\n",
    "rcat = treecorr.Catalog(x=cat_random['x'], y=cat_random['y'], z=cat_random['z'])#, \\\n",
    "                    #npatch=npatch)\n",
    "\n",
    "gcat = treecorr.Catalog(x=cat_sdss['x'], y=cat_sdss['y'], z=cat_sdss['z'])#, \\\n",
    "                    #npatch=npatch)\n",
    "\n",
    "dd.process(gcat)\n",
    "rr.process(rcat)\n",
    "dr.process(gcat,rcat)\n",
    "\n",
    "xi, varxi = dd.calculateXi(rr=rr,dr=dr)\n",
    "th = dd.meanr\n"
   ]
  },
  {
   "cell_type": "code",
   "execution_count": 7,
   "metadata": {},
   "outputs": [
    {
     "data": {
      "image/png": "[encoded data removed]",
      "text/plain": [
       "<Figure size 640x480 with 1 Axes>"
      ]
     },
     "metadata": {},
     "output_type": "display_data"
    }
   ],
   "source": [
    "import matplotlib.pyplot as plt\n",
    "sig = np.sqrt(varxi)\n",
    "\n",
    "th = dd.meanr\n",
    "\n",
    "#plt.plot(th, xi, color='C00')\n",
    "#plt.yscale('log')\n",
    "#plt.xscale('log')\n",
    "#plt.plot(th, -xi, color='blue', ls=':')\n",
    "#plt.errorbar(th[xi>0], xi[xi>0], yerr=sig[xi>0], color='blue', lw=1)\n",
    "plt.errorbar(th, xi*th**2, yerr=sig, color='C00', lw=2)\n",
    "\n",
    "#plt.errorbar(th[xi<0], -xi[xi<0], yerr=sig[xi<0], color='blue', lw=0.1, ls='')\n",
    "#leg = plt.errorbar(-th, xi, yerr=sig, color='blue')\n",
    "\n",
    "plt.show()"
   ]
  },
  {
   "cell_type": "code",
   "execution_count": null,
   "metadata": {},
   "outputs": [],
   "source": [
    "dd."
   ]
  },
  {
   "cell_type": "code",
   "execution_count": 23,
   "metadata": {},
   "outputs": [],
   "source": [
    "def get_xi3d(cat_sdss,cat_random):\n",
    "    ######################\n",
    "    minsep = 90.      # Min theta\n",
    "    maxsep = 140.      # Max theta\n",
    "    nbins = 10        # Bins in theta\n",
    "    #nbootstrap = 500  # No. of bootstrap resampling\n",
    "    #brute = False     # Brute force for TreeCorr\n",
    "    npatch = 10\n",
    "\n",
    "    config = {\"min_sep\": minsep, \\\n",
    "                \"max_sep\": maxsep, \\\n",
    "                \"nbins\": nbins, \\\n",
    "                #\"sep_units\": 'degree', \\\n",
    "                \"bin_type\": 'Linear', \\\n",
    "                #\"brute\": brute, \\\n",
    "                #\"metric\": 'Arc', \\\n",
    "                \"var_method\": 'jackknife', \\\n",
    "                #\"num_bootstrap\": nbootstrap,\\\n",
    "                }\n",
    "    ######################\n",
    "\n",
    "    import numpy as np\n",
    "    import pandas as pd\n",
    "    import treecorr\n",
    "    from astropy.cosmology import FlatLambdaCDM\n",
    "    cosmo = FlatLambdaCDM(H0=67.74, Om0=0.3089)\n",
    "\n",
    "    def H(ra, dec, z):\n",
    "\n",
    "        ra  = np.array(ra,  dtype=np.float32) \n",
    "        dec = np.array(dec, dtype=np.float32) \n",
    "        z   = np.array(z,   dtype=np.float32) \n",
    "\n",
    "        r = np.float32(cosmo.comoving_distance(z).value)\n",
    "        x = r*np.cos(np.deg2rad(ra))*np.cos(np.deg2rad(dec))\n",
    "        y = r*np.sin(np.deg2rad(ra))*np.cos(np.deg2rad(dec))\n",
    "        z = r*np.sin(np.deg2rad(dec))\n",
    "        return x, y, z\n",
    "\n",
    "    cat_random[\"x\"], cat_random[\"y\"], cat_random[\"z\"] = H(cat_random[\"ra\"], cat_random[\"dec\"], cat_random[\"red\"])\n",
    "\n",
    "    # TreeCorr Catalogues\n",
    "    dd = treecorr.NNCorrelation(config)\n",
    "    dr = treecorr.NNCorrelation(config)\n",
    "    rr = treecorr.NNCorrelation(config)\n",
    "\n",
    "    rcat = treecorr.Catalog(x=cat_random['x'], y=cat_random['y'], z=cat_random['z'], npatch=npatch)\n",
    "\n",
    "    gcat = treecorr.Catalog(x=cat_sdss['x'], y=cat_sdss['y'], z=cat_sdss['z'], npatch=npatch)\n",
    "\n",
    "    dd.process(gcat)\n",
    "    rr.process(rcat)\n",
    "    dr.process(gcat,rcat)\n",
    "\n",
    "    xi, varxi = dd.calculateXi(rr=rr,dr=dr)\n",
    "    r = dd.meanr\n",
    "    return xi, varxi, r\n",
    "\n",
    "# Read Gxs\n",
    "zmin, zmax = 0.0, 0.15\n",
    "cat_sdss = pd.read_csv('../data/sdss_zmin_0.000_zmax_0.300_sigma_5.0.csv')\n",
    "cat_sdss  = cat_sdss[(cat_sdss[\"red\"] > zmin)*(cat_sdss[\"red\"] < zmax)]\n",
    "\n",
    "# Filament Gxs\n",
    "filgxs = cat_sdss[cat_sdss['dist_fil']<=3.]\n",
    "\n",
    "# Non-filament Gxs\n",
    "nonfilgxs = cat_sdss[cat_sdss['dist_fil']>8.25]\n",
    "\n",
    "# Read Randoms\n",
    "cat_random = pd.read_csv('../data/random_sample_healpy_128.csv')\n",
    "\n",
    "xi, varxi, r = get_xi3d(cat_sdss,cat_random)\n",
    "\n",
    "xi_filgxs, varxi_filgxs, r = get_xi3d(filgxs,cat_random)\n",
    "\n",
    "xi_nonfilgxs, varxi_nonfilgxs, r = get_xi3d(nonfilgxs,cat_random)\n"
   ]
  },
  {
   "cell_type": "code",
   "execution_count": null,
   "metadata": {},
   "outputs": [
    {
     "data": {
      "image/png": "[encoded data removed]",
      "text/plain": [
       "<Figure size 640x480 with 1 Axes>"
      ]
     },
     "metadata": {},
     "output_type": "display_data"
    }
   ],
   "source": [
    "import matplotlib.pyplot as plt\n",
    "sig = np.sqrt(varxi)\n",
    "sig_filgxs = np.sqrt(varxi_filgxs)\n",
    "sig_nonfilgxs = np.sqrt(varxi_nonfilgxs)\n",
    "\n",
    "# plt.errorbar(r, xi, yerr=sig, color='C00', lw=2, label='allgxs')\n",
    "# plt.errorbar(r, xi_filgxs, yerr=sig_filgxs, color='C01', lw=2, label='filgxs')\n",
    "# plt.errorbar(r, xi_nonfilgxs, yerr=sig_filgxs, color='C02', lw=2, label='nonfilgxs')\n",
    "\n",
    "plt.plot(r, xi*r**2, color='C00', lw=2, label='allgxs')\n",
    "plt.plot(r, xi_filgxs*r**2, color='C01', lw=2, label='filgxs')\n",
    "plt.plot(r, xi_nonfilgxs*r**2, color='C02', lw=2, label='nonfilgxs')\n",
    "\n",
    "plt.legend()\n",
    "\n",
    "plt.show()"
   ]
  },
  {
   "cell_type": "markdown",
   "metadata": {},
   "source": [
    "#### Pruebita"
   ]
  },
  {
   "cell_type": "code",
   "execution_count": 1,
   "metadata": {},
   "outputs": [],
   "source": [
    "import numpy as np\n",
    "import pandas as pd\n",
    "import treecorr\n",
    "from astropy.cosmology import FlatLambdaCDM\n",
    "cosmo = FlatLambdaCDM(H0=67.74, Om0=0.3089)\n",
    "\n",
    "def H(ra, dec, z):\n",
    "\n",
    "  ra  = np.array(ra,  dtype=np.float32) \n",
    "  dec = np.array(dec, dtype=np.float32) \n",
    "  z   = np.array(z,   dtype=np.float32) \n",
    "\n",
    "  r = np.float32(cosmo.comoving_distance(z).value)\n",
    "  x = r*np.cos(np.deg2rad(ra))*np.cos(np.deg2rad(dec))\n",
    "  y = r*np.sin(np.deg2rad(ra))*np.cos(np.deg2rad(dec))\n",
    "  z = r*np.sin(np.deg2rad(dec))\n",
    "  return x, y, z\n",
    "\n",
    "# Read Gxs\n",
    "# zmin, zmax = 0.0, 0.15\n",
    "# cat_sdss = pd.read_csv('../data/sdss_zmin_0.000_zmax_0.300_sigma_5.0.csv')\n",
    "# cat_sdss  = cat_sdss[(cat_sdss[\"red\"] > zmin)*(cat_sdss[\"red\"] < zmax)]\n",
    "\n",
    "# Read Randoms\n",
    "cat_random = pd.read_csv('../data/random_sample_healpy_128_561286.csv')\n",
    "\n",
    "cat_random[\"x\"], cat_random[\"y\"], cat_random[\"z\"] = H(cat_random[\"ra\"], cat_random[\"dec\"], cat_random[\"red\"])"
   ]
  },
  {
   "cell_type": "code",
   "execution_count": 2,
   "metadata": {},
   "outputs": [
    {
     "data": {
      "text/plain": [
       "0        -316.680511\n",
       "1        -264.269836\n",
       "2        -299.262665\n",
       "3        -417.088928\n",
       "4        -472.110840\n",
       "             ...    \n",
       "561281   -202.734024\n",
       "561282   -110.232574\n",
       "561283   -277.995972\n",
       "561284   -268.451904\n",
       "561285   -356.731598\n",
       "Name: x, Length: 561286, dtype: float32"
      ]
     },
     "execution_count": 2,
     "metadata": {},
     "output_type": "execute_result"
    }
   ],
   "source": [
    "cat_random['x']"
   ]
  },
  {
   "cell_type": "code",
   "execution_count": 6,
   "metadata": {},
   "outputs": [
    {
     "name": "stdout",
     "output_type": "stream",
     "text": [
      "[[509.1177 ]\n",
      " [315.7677 ]\n",
      " [306.5307 ]\n",
      " ...\n",
      " [345.80328]\n",
      " [379.9954 ]\n",
      " [473.3747 ]]\n"
     ]
    }
   ],
   "source": [
    "import healpy as hp\n",
    "\n",
    "r = np.float32(cosmo.comoving_distance(cat_random['red']).value)\n",
    "\n",
    "print(r.reshape(-1,1))"
   ]
  },
  {
   "cell_type": "code",
   "execution_count": 8,
   "metadata": {},
   "outputs": [
    {
     "name": "stdout",
     "output_type": "stream",
     "text": [
      "\u001b[0;31mSignature:\u001b[0m \u001b[0mhp\u001b[0m\u001b[0;34m.\u001b[0m\u001b[0mang2vec\u001b[0m\u001b[0;34m(\u001b[0m\u001b[0mtheta\u001b[0m\u001b[0;34m,\u001b[0m \u001b[0mphi\u001b[0m\u001b[0;34m,\u001b[0m \u001b[0mlonlat\u001b[0m\u001b[0;34m=\u001b[0m\u001b[0;32mFalse\u001b[0m\u001b[0;34m)\u001b[0m\u001b[0;34m\u001b[0m\u001b[0;34m\u001b[0m\u001b[0m\n",
      "\u001b[0;31mDocstring:\u001b[0m\n",
      "ang2vec : convert angles to 3D position vector\n",
      "\n",
      "Parameters\n",
      "----------\n",
      "theta : float, scalar or arry-like\n",
      "  colatitude in radians measured southward from north pole (in [0,pi]).\n",
      "phi : float, scalar or array-like\n",
      "  longitude in radians measured eastward (in [0, 2*pi]).\n",
      "lonlat : bool\n",
      "  If True, input angles are assumed to be longitude and latitude in degree,\n",
      "  otherwise, they are co-latitude and longitude in radians.\n",
      "\n",
      "Returns\n",
      "-------\n",
      "vec : float, array\n",
      "  if theta and phi are vectors, the result is a 2D array with a vector per row\n",
      "  otherwise, it is a 1D array of shape (3,)\n",
      "\n",
      "See Also\n",
      "--------\n",
      "vec2ang, rotator.dir2vec, rotator.vec2dir\n",
      "\u001b[0;31mFile:\u001b[0m      ~/anaconda3/envs/filbao/lib/python3.12/site-packages/healpy/pixelfunc.py\n",
      "\u001b[0;31mType:\u001b[0m      function"
     ]
    }
   ],
   "source": [
    "hp.ang2vec?"
   ]
  },
  {
   "cell_type": "code",
   "execution_count": null,
   "metadata": {},
   "outputs": [],
   "source": [
    "coord = hp.ang2vec(cat_random[\"ra\"], cat_random[\"dec\"], lonlat=True)*r.reshape((-1,1))"
   ]
  },
  {
   "cell_type": "code",
   "execution_count": 13,
   "metadata": {},
   "outputs": [
    {
     "data": {
      "text/plain": [
       "0         0.000057\n",
       "1        -0.000091\n",
       "2         0.000411\n",
       "3         0.000104\n",
       "4        -0.000108\n",
       "            ...   \n",
       "561281   -0.001238\n",
       "561282    0.000430\n",
       "561283   -0.000393\n",
       "561284   -0.000491\n",
       "561285    0.000599\n",
       "Name: x, Length: 561286, dtype: float64"
      ]
     },
     "execution_count": 13,
     "metadata": {},
     "output_type": "execute_result"
    }
   ],
   "source": [
    "coord[:,0]-cat_random['x']"
   ]
  }
 ],
 "metadata": {
  "kernelspec": {
   "display_name": "filbao",
   "language": "python",
   "name": "python3"
  },
  "language_info": {
   "codemirror_mode": {
    "name": "ipython",
    "version": 3
   },
   "file_extension": ".py",
   "mimetype": "text/x-python",
   "name": "python",
   "nbconvert_exporter": "python",
   "pygments_lexer": "ipython3",
   "version": "3.12.2"
  }
 },
 "nbformat": 4,
 "nbformat_minor": 2
}
