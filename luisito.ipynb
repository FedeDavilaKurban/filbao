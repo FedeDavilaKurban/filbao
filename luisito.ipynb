{
 "cells": [
  {
   "cell_type": "code",
   "execution_count": null,
   "metadata": {},
   "outputs": [],
   "source": [
    "import numpy as np\n",
    "import scipy as sp\n",
    "\n",
    "\n",
    "def build_cdf_inv(v, vmin, vmax):\n",
    "\n",
    "  v_sort  = np.sort(v)\n",
    "  cdf     = np.arange(1, len(v_sort) + 1) / len(v_sort)\n",
    "  cdf_inv = sp.interpolate.interp1d(cdf, v_sort, bounds_error=False, fill_value=(vmin, vmax))\n",
    "\n",
    "  return cdf_inv \n",
    "\n",
    "\n",
    "red --> array\n",
    "cdf_inv_z = build_cdf_inv(red, zmin, zmax)\n",
    "\n",
    "\n",
    " \n",
    "u   = rng.uniform(0, 1, npoints)\n",
    "Red = cdf_inv_z(u)\n",
    "\n",
    "\n",
    "\n",
    "==============================================================================\n",
    "\n",
    "\n",
    "from astropy.cosmology import FlatLambdaCDM\n",
    "cosmo = FlatLambdaCDM(H0=67.74, Om0=0.3089)\n",
    "\n",
    "def H(ra, dec, z):\n",
    "\n",
    "  ra  = np.array(ra,  dtype=np.float32) \n",
    "  dec = np.array(dec, dtype=np.float32) \n",
    "  z   = np.array(z,   dtype=np.float32) \n",
    "\n",
    "  r = np.float32(cosmo.comoving_distance(z).value)\n",
    "  x = r*np.cos(np.deg2rad(ra))*np.cos(np.deg2rad(dec))\n",
    "  y = r*np.sin(np.deg2rad(ra))*np.cos(np.deg2rad(dec))\n",
    "  z = r*np.sin(np.deg2rad(dec))\n",
    "  return x, y, z\n",
    "\n",
    "cat[\"x\"], cat[\"y\"], cat[\"z\"] = H(cat[\"ra\"], cat[\"dec\"], cat[\"red\"])"
   ]
  }
 ],
 "metadata": {
  "kernelspec": {
   "display_name": "filbao",
   "language": "python",
   "name": "python3"
  },
  "language_info": {
   "name": "python",
   "version": "3.12.2"
  }
 },
 "nbformat": 4,
 "nbformat_minor": 2
}
