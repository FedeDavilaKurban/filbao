{
 "cells": [
  {
   "cell_type": "code",
   "execution_count": 1,
   "metadata": {},
   "outputs": [],
   "source": [
    "from nbodykit.lab import *\n",
    "import pandas as pd\n",
    "import numpy as np\n",
    "\n",
    "zmin, zmax = 0.01, 0.15\n",
    "\n",
    "# Load your data and randoms as Pandas DataFrames\n",
    "sdss = pd.read_csv('../data/sdss_zmin_0.000_zmax_0.300_sigma_5.0.csv')\n",
    "sdss  = sdss[(sdss[\"red\"] > zmin)&(sdss[\"red\"] < zmax)]\n",
    "randoms = pd.read_csv('../data/random_sample_healpy_128.csv')  # Replace with your randoms CSV file path\n",
    "\n",
    "# Convert DataFrames to ArrayCatalog with RA, DEC, and Redshift\n",
    "data_cat = ArrayCatalog({'RA': sdss['ra'].values,\n",
    "                         'DEC': sdss['dec'].values,\n",
    "                         'Redshift': sdss['red'].values})\n",
    "\n",
    "rand_cat = ArrayCatalog({'RA': randoms['ra'].values,\n",
    "                         'DEC': randoms['dec'].values,\n",
    "                         'Redshift': randoms['red'].values})\n",
    "\n",
    "#data_cat['RA'] = np.radians(data_cat['RA'])\n",
    "#data_cat['DEC'] = np.radians(data_cat['DEC'])\n",
    "#rand_cat['RA'] = np.radians(rand_cat['RA'])\n",
    "#rand_cat['DEC'] = np.radians(rand_cat['DEC'])\n",
    "\n",
    "# Assign cosmology (if not already in the data)\n",
    "cosmo = cosmology.Planck15\n",
    "\n",
    "# Define the edges for rp and pi bins\n",
    "edges = np.linspace(10.,50.,10) \n",
    "pimax = 10. \n",
    "\n",
    "# Define the SurveyData2PCF object\n",
    "result = SurveyData2PCF('projected', data_cat, rand_cat, edges=edges, pimax=pimax, cosmo=cosmo, ra='RA', dec='DEC', redshift='Redshift')\n",
    "\n",
    "# Access the computed correlation function\n",
    "# xi_s_mu = result.corr.data  # 2D correlation function values\n",
    "# s = result.corr.coords['r']  # The s bins\n",
    "# mu = result.corr.coords['mu']  # The mu bins\n",
    "\n",
    "# # Save or print results\n",
    "# print(\"s:\", s)\n",
    "# print(\"mu:\", mu)\n",
    "# print(\"xi(s, mu):\", xi_s_mu)\n",
    "\n",
    "# # Optionally save the results to a file\n",
    "# np.savez('xi_s_mu_results.npz', s=s, mu=mu, xi_s_mu=xi_s_mu)\n",
    "\n"
   ]
  }
 ],
 "metadata": {
  "kernelspec": {
   "display_name": "nbodykit-env",
   "language": "python",
   "name": "python3"
  },
  "language_info": {
   "codemirror_mode": {
    "name": "ipython",
    "version": 3
   },
   "file_extension": ".py",
   "mimetype": "text/x-python",
   "name": "python",
   "nbconvert_exporter": "python",
   "pygments_lexer": "ipython3",
   "version": "3.6.13"
  }
 },
 "nbformat": 4,
 "nbformat_minor": 2
}
