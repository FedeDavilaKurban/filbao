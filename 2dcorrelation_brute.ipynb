{
 "cells": [
  {
   "cell_type": "code",
   "execution_count": 1,
   "metadata": {},
   "outputs": [],
   "source": [
    "def H(ra, dec, z):\n",
    "\n",
    "    ra  = np.array(ra,  dtype=np.float32) \n",
    "    dec = np.array(dec, dtype=np.float32) \n",
    "    z   = np.array(z,   dtype=np.float32) \n",
    "\n",
    "    r = np.float32(cosmo.comoving_distance(z).value)\n",
    "    x = r*np.cos(np.deg2rad(ra))*np.cos(np.deg2rad(dec))\n",
    "    y = r*np.sin(np.deg2rad(ra))*np.cos(np.deg2rad(dec))\n",
    "    z = r*np.sin(np.deg2rad(dec))\n",
    "    return x, y, z\n",
    "\n",
    "import pandas as pd\n",
    "import numpy as np\n",
    "import treecorr\n",
    "from astropy.cosmology import FlatLambdaCDM\n",
    "cosmo = FlatLambdaCDM(H0=67.74, Om0=0.3089)\n",
    "######################\n",
    "minsep = 10.      # Min theta\n",
    "maxsep = 80.      # Max theta\n",
    "nbins = 10        # Bins in theta\n",
    "\n",
    "\n",
    "# Read Gxs\n",
    "zmin, zmax = 0.01, 0.15\n",
    "cat_sdss = pd.read_csv('../data/sdss_zmin_0.000_zmax_0.300_sigma_5.0.csv')\n",
    "cat_sdss  = cat_sdss[(cat_sdss[\"red\"] > zmin)*(cat_sdss[\"red\"] < zmax)]\n",
    "\n",
    "# Filament Gxs\n",
    "filgxs = cat_sdss[cat_sdss['dist_fil']<=3.]\n",
    "\n",
    "# Non-filament Gxs\n",
    "nonfilgxs = cat_sdss[cat_sdss['dist_fil']>8.25]\n",
    "\n",
    "# Read Randoms & Build Catalog\n",
    "cat_random = pd.read_csv('../data/random_sample_healpy_128_561286.csv')\n",
    "cat_random[\"x\"], cat_random[\"y\"], cat_random[\"z\"] = H(cat_random[\"ra\"], cat_random[\"dec\"], cat_random[\"red\"])\n",
    "\n",
    "\n"
   ]
  },
  {
   "cell_type": "code",
   "execution_count": null,
   "metadata": {},
   "outputs": [
    {
     "name": "stdout",
     "output_type": "stream",
     "text": [
      "401359 <class 'int'>\n"
     ]
    },
    {
     "ename": "ArgumentError",
     "evalue": "argument 8: TypeError: Don't know how to convert parameter 8",
     "output_type": "error",
     "traceback": [
      "\u001b[0;31m---------------------------------------------------------------------------\u001b[0m",
      "\u001b[0;31mArgumentError\u001b[0m                             Traceback (most recent call last)",
      "Cell \u001b[0;32mIn[28], line 54\u001b[0m\n\u001b[1;32m     49\u001b[0m pairs \u001b[38;5;241m=\u001b[39m np\u001b[38;5;241m.\u001b[39mzeros(\u001b[38;5;241m10\u001b[39m\u001b[38;5;241m*\u001b[39m\u001b[38;5;241m10\u001b[39m, dtype\u001b[38;5;241m=\u001b[39mnp\u001b[38;5;241m.\u001b[39mfloat64)\n\u001b[1;32m     51\u001b[0m \u001b[38;5;28mprint\u001b[39m(ngal1, \u001b[38;5;28mtype\u001b[39m(ngal1))\n\u001b[0;32m---> 54\u001b[0m \u001b[43mlibcd\u001b[49m\u001b[38;5;241;43m.\u001b[39;49m\u001b[43mcalcular_correlacion\u001b[49m\u001b[43m(\u001b[49m\u001b[43mngal1\u001b[49m\u001b[43m,\u001b[49m\u001b[43mngal2\u001b[49m\u001b[43m,\u001b[49m\u001b[43mnbins\u001b[49m\u001b[43m,\u001b[49m\u001b[43mrmin_perp\u001b[49m\u001b[43m,\u001b[49m\u001b[43mrmax_perp\u001b[49m\u001b[43m,\u001b[49m\u001b[43mrmin_pll\u001b[49m\u001b[43m,\u001b[49m\u001b[43mrmax_pll\u001b[49m\u001b[43m,\u001b[49m\u001b[43mx1\u001b[49m\u001b[43m,\u001b[49m\u001b[43mcat_sdss\u001b[49m\u001b[43m[\u001b[49m\u001b[38;5;124;43m'\u001b[39;49m\u001b[38;5;124;43my\u001b[39;49m\u001b[38;5;124;43m'\u001b[39;49m\u001b[43m]\u001b[49m\u001b[43m,\u001b[49m\u001b[43mcat_sdss\u001b[49m\u001b[43m[\u001b[49m\u001b[38;5;124;43m'\u001b[39;49m\u001b[38;5;124;43mz\u001b[39;49m\u001b[38;5;124;43m'\u001b[39;49m\u001b[43m]\u001b[49m\u001b[43m,\u001b[49m\u001b[43m\\\u001b[49m\n\u001b[1;32m     55\u001b[0m \u001b[43m                                                                        \u001b[49m\u001b[43mcat_random\u001b[49m\u001b[43m[\u001b[49m\u001b[38;5;124;43m'\u001b[39;49m\u001b[38;5;124;43mx\u001b[39;49m\u001b[38;5;124;43m'\u001b[39;49m\u001b[43m]\u001b[49m\u001b[43m,\u001b[49m\u001b[43mcat_random\u001b[49m\u001b[43m[\u001b[49m\u001b[38;5;124;43m'\u001b[39;49m\u001b[38;5;124;43my\u001b[39;49m\u001b[38;5;124;43m'\u001b[39;49m\u001b[43m]\u001b[49m\u001b[43m,\u001b[49m\u001b[43mcat_random\u001b[49m\u001b[43m[\u001b[49m\u001b[38;5;124;43m'\u001b[39;49m\u001b[38;5;124;43mz\u001b[39;49m\u001b[38;5;124;43m'\u001b[39;49m\u001b[43m]\u001b[49m\u001b[43m,\u001b[49m\u001b[43m\\\u001b[49m\n\u001b[1;32m     56\u001b[0m \u001b[43m                                                                        \u001b[49m\u001b[43mpairs\u001b[49m\u001b[43m)\u001b[49m\n",
      "\u001b[0;31mArgumentError\u001b[0m: argument 8: TypeError: Don't know how to convert parameter 8"
     ]
    }
   ],
   "source": [
    "import os\n",
    "\n",
    "# Compilar\n",
    "exe = 'force_brute'\n",
    "comando = 'gcc -c -g -fPIC -lm %s.c -o %s.o' % (exe, exe)\n",
    "os.system(comando)\n",
    "\n",
    "# Ejecutar\n",
    "comando = 'gcc -g -shared -lm %s.o -o %s.so' % (exe, exe)\n",
    "os.system(comando)\n",
    "\n",
    "\n",
    "#(int ngal1, int ngal2, int nbins, double min_sep, double max_sep, double min_pi, double max_pi,\n",
    "#                           double* x1, double* y1, double* z1, double* x2, double* y2, double* z2,\n",
    "#                           , double* true_npairs)\n",
    "import numpy.ctypeslib as npct\n",
    "import ctypes\n",
    "\n",
    "#Cargar libreria\n",
    "libcd = npct.load_library('%s.so' % exe, '.')\n",
    "\n",
    "array_1d_double = npct.ndpointer(dtype=np.float64, ndim=1, flags='C_CONTIGUOUS')\n",
    "libcd.calcular_correlacion.argtype = [\\\n",
    "    npct.ctypes.c_int,\\\n",
    "    npct.ctypes.c_int,\\\n",
    "    npct.ctypes.c_int,\\\n",
    "    npct.ctypes.c_double,\\\n",
    "    npct.ctypes.c_double,\\\n",
    "    npct.ctypes.c_double,\\\n",
    "    npct.ctypes.c_double,\\\n",
    "    array_1d_double,\\\n",
    "    array_1d_double,\\\n",
    "    array_1d_double,\\\n",
    "    array_1d_double,\\\n",
    "    array_1d_double,\\\n",
    "    array_1d_double,\\\n",
    "    array_1d_double]\n",
    "\n",
    "ngal1 = len(cat_sdss)\n",
    "ngal2 = len(cat_random)\n",
    "nbins = 10\n",
    "rmin_perp = ctypes.c_double(10.0)\n",
    "rmax_perp = ctypes.c_double(50.0)\n",
    "rmin_pll = ctypes.c_double(10.0)\n",
    "rmax_pll = ctypes.c_double(50.0)\n",
    "x1 = np.ascontiguousarray(cat_sdss['x'].to_numpy(dtype=np.float64))\n",
    "pairs = np.zeros(10*10, dtype=np.float64)\n",
    "\n",
    "print(ngal1, type(ngal1))\n",
    "\n",
    "\n",
    "libcd.calcular_correlacion(ngal1,ngal2,nbins,rmin_perp,rmax_perp,rmin_pll,rmax_pll,x1,cat_sdss['y'],cat_sdss['z'],\\\n",
    "                                                                        cat_random['x'],cat_random['y'],cat_random['z'],\\\n",
    "                                                                        pairs)"
   ]
  },
  {
   "cell_type": "code",
   "execution_count": 22,
   "metadata": {},
   "outputs": [
    {
     "name": "stdout",
     "output_type": "stream",
     "text": [
      "['_FuncPtr', '__class__', '__delattr__', '__dict__', '__dir__', '__doc__', '__eq__', '__format__', '__ge__', '__getattr__', '__getattribute__', '__getitem__', '__getstate__', '__gt__', '__hash__', '__init__', '__init_subclass__', '__le__', '__lt__', '__module__', '__ne__', '__new__', '__reduce__', '__reduce_ex__', '__repr__', '__setattr__', '__sizeof__', '__str__', '__subclasshook__', '__weakref__', '_func_flags_', '_func_restype_', '_handle', '_name', 'calcular_correlacion']\n"
     ]
    }
   ],
   "source": [
    "print(dir(libcd))"
   ]
  },
  {
   "cell_type": "code",
   "execution_count": null,
   "metadata": {},
   "outputs": [
    {
     "name": "stderr",
     "output_type": "stream",
     "text": [
      "/tmp/ipykernel_120532/1932557408.py:5: FutureWarning: The 'delim_whitespace' keyword in pd.read_csv is deprecated and will be removed in a future version. Use ``sep='\\s+'`` instead\n",
      "  data = pd.read_csv(\"2dcorrelation.out\", delim_whitespace=True, comment='#')\n"
     ]
    },
    {
     "ename": "KeyError",
     "evalue": "'sigma'",
     "output_type": "error",
     "traceback": [
      "\u001b[0;31m---------------------------------------------------------------------------\u001b[0m",
      "\u001b[0;31mKeyError\u001b[0m                                  Traceback (most recent call last)",
      "File \u001b[0;32m~/anaconda3/envs/filbao/lib/python3.12/site-packages/pandas/core/indexes/base.py:3805\u001b[0m, in \u001b[0;36mIndex.get_loc\u001b[0;34m(self, key)\u001b[0m\n\u001b[1;32m   3804\u001b[0m \u001b[38;5;28;01mtry\u001b[39;00m:\n\u001b[0;32m-> 3805\u001b[0m     \u001b[38;5;28;01mreturn\u001b[39;00m \u001b[38;5;28;43mself\u001b[39;49m\u001b[38;5;241;43m.\u001b[39;49m\u001b[43m_engine\u001b[49m\u001b[38;5;241;43m.\u001b[39;49m\u001b[43mget_loc\u001b[49m\u001b[43m(\u001b[49m\u001b[43mcasted_key\u001b[49m\u001b[43m)\u001b[49m\n\u001b[1;32m   3806\u001b[0m \u001b[38;5;28;01mexcept\u001b[39;00m \u001b[38;5;167;01mKeyError\u001b[39;00m \u001b[38;5;28;01mas\u001b[39;00m err:\n",
      "File \u001b[0;32mindex.pyx:167\u001b[0m, in \u001b[0;36mpandas._libs.index.IndexEngine.get_loc\u001b[0;34m()\u001b[0m\n",
      "File \u001b[0;32mindex.pyx:196\u001b[0m, in \u001b[0;36mpandas._libs.index.IndexEngine.get_loc\u001b[0;34m()\u001b[0m\n",
      "File \u001b[0;32mpandas/_libs/hashtable_class_helper.pxi:7081\u001b[0m, in \u001b[0;36mpandas._libs.hashtable.PyObjectHashTable.get_item\u001b[0;34m()\u001b[0m\n",
      "File \u001b[0;32mpandas/_libs/hashtable_class_helper.pxi:7089\u001b[0m, in \u001b[0;36mpandas._libs.hashtable.PyObjectHashTable.get_item\u001b[0;34m()\u001b[0m\n",
      "\u001b[0;31mKeyError\u001b[0m: 'sigma'",
      "\nThe above exception was the direct cause of the following exception:\n",
      "\u001b[0;31mKeyError\u001b[0m                                  Traceback (most recent call last)",
      "Cell \u001b[0;32mIn[32], line 8\u001b[0m\n\u001b[1;32m      5\u001b[0m data \u001b[38;5;241m=\u001b[39m pd\u001b[38;5;241m.\u001b[39mread_csv(\u001b[38;5;124m\"\u001b[39m\u001b[38;5;124m2dcorrelation.out\u001b[39m\u001b[38;5;124m\"\u001b[39m, delim_whitespace\u001b[38;5;241m=\u001b[39m\u001b[38;5;28;01mTrue\u001b[39;00m, comment\u001b[38;5;241m=\u001b[39m\u001b[38;5;124m'\u001b[39m\u001b[38;5;124m#\u001b[39m\u001b[38;5;124m'\u001b[39m)\n\u001b[1;32m      7\u001b[0m \u001b[38;5;66;03m# Extract the relevant columns\u001b[39;00m\n\u001b[0;32m----> 8\u001b[0m sigma \u001b[38;5;241m=\u001b[39m \u001b[43mdata\u001b[49m\u001b[43m[\u001b[49m\u001b[38;5;124;43m'\u001b[39;49m\u001b[38;5;124;43msigma\u001b[39;49m\u001b[38;5;124;43m'\u001b[39;49m\u001b[43m]\u001b[49m\n\u001b[1;32m      9\u001b[0m pi \u001b[38;5;241m=\u001b[39m data[\u001b[38;5;124m'\u001b[39m\u001b[38;5;124mpi\u001b[39m\u001b[38;5;124m'\u001b[39m]\n\u001b[1;32m     10\u001b[0m xi \u001b[38;5;241m=\u001b[39m data[\u001b[38;5;124m'\u001b[39m\u001b[38;5;124mxi\u001b[39m\u001b[38;5;124m'\u001b[39m]\n",
      "File \u001b[0;32m~/anaconda3/envs/filbao/lib/python3.12/site-packages/pandas/core/frame.py:4090\u001b[0m, in \u001b[0;36mDataFrame.__getitem__\u001b[0;34m(self, key)\u001b[0m\n\u001b[1;32m   4088\u001b[0m \u001b[38;5;28;01mif\u001b[39;00m \u001b[38;5;28mself\u001b[39m\u001b[38;5;241m.\u001b[39mcolumns\u001b[38;5;241m.\u001b[39mnlevels \u001b[38;5;241m>\u001b[39m \u001b[38;5;241m1\u001b[39m:\n\u001b[1;32m   4089\u001b[0m     \u001b[38;5;28;01mreturn\u001b[39;00m \u001b[38;5;28mself\u001b[39m\u001b[38;5;241m.\u001b[39m_getitem_multilevel(key)\n\u001b[0;32m-> 4090\u001b[0m indexer \u001b[38;5;241m=\u001b[39m \u001b[38;5;28;43mself\u001b[39;49m\u001b[38;5;241;43m.\u001b[39;49m\u001b[43mcolumns\u001b[49m\u001b[38;5;241;43m.\u001b[39;49m\u001b[43mget_loc\u001b[49m\u001b[43m(\u001b[49m\u001b[43mkey\u001b[49m\u001b[43m)\u001b[49m\n\u001b[1;32m   4091\u001b[0m \u001b[38;5;28;01mif\u001b[39;00m is_integer(indexer):\n\u001b[1;32m   4092\u001b[0m     indexer \u001b[38;5;241m=\u001b[39m [indexer]\n",
      "File \u001b[0;32m~/anaconda3/envs/filbao/lib/python3.12/site-packages/pandas/core/indexes/base.py:3812\u001b[0m, in \u001b[0;36mIndex.get_loc\u001b[0;34m(self, key)\u001b[0m\n\u001b[1;32m   3807\u001b[0m     \u001b[38;5;28;01mif\u001b[39;00m \u001b[38;5;28misinstance\u001b[39m(casted_key, \u001b[38;5;28mslice\u001b[39m) \u001b[38;5;129;01mor\u001b[39;00m (\n\u001b[1;32m   3808\u001b[0m         \u001b[38;5;28misinstance\u001b[39m(casted_key, abc\u001b[38;5;241m.\u001b[39mIterable)\n\u001b[1;32m   3809\u001b[0m         \u001b[38;5;129;01mand\u001b[39;00m \u001b[38;5;28many\u001b[39m(\u001b[38;5;28misinstance\u001b[39m(x, \u001b[38;5;28mslice\u001b[39m) \u001b[38;5;28;01mfor\u001b[39;00m x \u001b[38;5;129;01min\u001b[39;00m casted_key)\n\u001b[1;32m   3810\u001b[0m     ):\n\u001b[1;32m   3811\u001b[0m         \u001b[38;5;28;01mraise\u001b[39;00m InvalidIndexError(key)\n\u001b[0;32m-> 3812\u001b[0m     \u001b[38;5;28;01mraise\u001b[39;00m \u001b[38;5;167;01mKeyError\u001b[39;00m(key) \u001b[38;5;28;01mfrom\u001b[39;00m \u001b[38;5;21;01merr\u001b[39;00m\n\u001b[1;32m   3813\u001b[0m \u001b[38;5;28;01mexcept\u001b[39;00m \u001b[38;5;167;01mTypeError\u001b[39;00m:\n\u001b[1;32m   3814\u001b[0m     \u001b[38;5;66;03m# If we have a listlike key, _check_indexing_error will raise\u001b[39;00m\n\u001b[1;32m   3815\u001b[0m     \u001b[38;5;66;03m#  InvalidIndexError. Otherwise we fall through and re-raise\u001b[39;00m\n\u001b[1;32m   3816\u001b[0m     \u001b[38;5;66;03m#  the TypeError.\u001b[39;00m\n\u001b[1;32m   3817\u001b[0m     \u001b[38;5;28mself\u001b[39m\u001b[38;5;241m.\u001b[39m_check_indexing_error(key)\n",
      "\u001b[0;31mKeyError\u001b[0m: 'sigma'"
     ]
    }
   ],
   "source": [
    "import pandas as pd\n",
    "import numpy as np\n",
    "\n",
    "# Load the TreeCorr output file\n",
    "data = pd.read_csv(\"2dcorrelation.out\", delim_whitespace=True, comment='#')\n",
    "\n",
    "# Extract the relevant columns\n",
    "sigma = data['sigma']\n",
    "pi = data['pi']\n",
    "xi = data['xi']\n",
    "npairs = data['npairs']  # Number of pairs in each bin (for weighting)\n",
    "\n",
    "# Compute xi_perp: Group by sigma and average over all pi bins\n",
    "xi_perp = data.groupby('sigma').apply(\n",
    "    lambda group: np.average(group['xi'], weights=group['npairs'])\n",
    ").reset_index(name='xi_perp')\n",
    "\n",
    "# Compute xi_parallel: Group by pi and average over all sigma bins\n",
    "xi_parallel = data.groupby('pi').apply(\n",
    "    lambda group: np.average(group['xi'], weights=group['npairs'])\n",
    ").reset_index(name='xi_parallel')\n",
    "\n",
    "# Save to files\n",
    "xi_perp.to_csv(\"xi_perp.csv\", index=False)\n",
    "xi_parallel.to_csv(\"xi_parallel.csv\", index=False)\n"
   ]
  }
 ],
 "metadata": {
  "kernelspec": {
   "display_name": "filbao",
   "language": "python",
   "name": "python3"
  },
  "language_info": {
   "codemirror_mode": {
    "name": "ipython",
    "version": 3
   },
   "file_extension": ".py",
   "mimetype": "text/x-python",
   "name": "python",
   "nbconvert_exporter": "python",
   "pygments_lexer": "ipython3",
   "version": "3.12.2"
  }
 },
 "nbformat": 4,
 "nbformat_minor": 2
}
